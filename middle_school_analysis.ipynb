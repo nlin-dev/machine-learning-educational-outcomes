{
 "cells": [
  {
   "cell_type": "markdown",
   "id": "4db2f0cb",
   "metadata": {},
   "source": [
    "# Abstract"
   ]
  },
  {
   "cell_type": "markdown",
   "id": "6bbfb409",
   "metadata": {},
   "source": [
    "Given a dataset provided by the New York City Department of Education, I intended to use this datset to determine which characteristics of middle schools within NYC predicted overall student success and admission to one of 8 highly-selective public high schools (Stuyvesant, Bronx Science, etc.) within the city, referred to from now on as a **HSPHS.** However it must be noted that one of the features, school's average Specialized High Schools Admissions Test **(SHSAT)**, is a covariate within the dataset and must be analyzed as such."
   ]
  },
  {
   "cell_type": "markdown",
   "id": "88fd6cf2",
   "metadata": {},
   "source": [
    "## Importing Dependencies"
   ]
  },
  {
   "cell_type": "code",
   "execution_count": 1,
   "id": "8f26d351",
   "metadata": {},
   "outputs": [],
   "source": [
    "import numpy as np\n",
    "import pandas as pd\n",
    "import seaborn as sns\n",
    "import sklearn as sk\n",
    "import matplotlib.pyplot as plt\n",
    "\n",
    "from scipy import stats\n",
    "from scipy.stats import zscore\n",
    "from scipy.stats import ttest_ind\n",
    "\n",
    "from sklearn import svm\n",
    "from sklearn import preprocessing\n",
    "from sklearn.linear_model import LogisticRegression\n",
    "from sklearn.cluster import KMeans\n",
    "from sklearn.preprocessing import StandardScaler\n",
    "from sklearn.decomposition import PCA\n",
    "from sklearn.tree import DecisionTreeClassifier\n",
    "from sklearn.metrics import silhouette_score, accuracy_score, precision_score\n",
    "from sklearn.metrics import recall_score, f1_score, confusion_matrix, roc_curve, auc\n",
    "from sklearn.svm import SVC\n",
    "from sklearn.model_selection import train_test_split"
   ]
  },
  {
   "cell_type": "markdown",
   "id": "f70d0c09",
   "metadata": {},
   "source": [
    "# The Dataset"
   ]
  },
  {
   "cell_type": "code",
   "execution_count": 2,
   "id": "249a63af",
   "metadata": {},
   "outputs": [
    {
     "name": "stdout",
     "output_type": "stream",
     "text": [
      "Dataset Shape: (594, 24)\n"
     ]
    },
    {
     "data": {
      "text/html": [
       "<div>\n",
       "<style scoped>\n",
       "    .dataframe tbody tr th:only-of-type {\n",
       "        vertical-align: middle;\n",
       "    }\n",
       "\n",
       "    .dataframe tbody tr th {\n",
       "        vertical-align: top;\n",
       "    }\n",
       "\n",
       "    .dataframe thead th {\n",
       "        text-align: right;\n",
       "    }\n",
       "</style>\n",
       "<table border=\"1\" class=\"dataframe\">\n",
       "  <thead>\n",
       "    <tr style=\"text-align: right;\">\n",
       "      <th></th>\n",
       "      <th>dbn</th>\n",
       "      <th>school_name</th>\n",
       "      <th>applications</th>\n",
       "      <th>acceptances</th>\n",
       "      <th>per_pupil_spending</th>\n",
       "      <th>avg_class_size</th>\n",
       "      <th>asian_percent</th>\n",
       "      <th>black_percent</th>\n",
       "      <th>hispanic_percent</th>\n",
       "      <th>multiple_percent</th>\n",
       "      <th>...</th>\n",
       "      <th>effective_school_leadership</th>\n",
       "      <th>strong_family_community_ties</th>\n",
       "      <th>trust</th>\n",
       "      <th>disability_percent</th>\n",
       "      <th>poverty_percent</th>\n",
       "      <th>ESL_percent</th>\n",
       "      <th>school_size</th>\n",
       "      <th>student_achievement</th>\n",
       "      <th>reading_scores_exceed</th>\n",
       "      <th>math_scores_exceed</th>\n",
       "    </tr>\n",
       "  </thead>\n",
       "  <tbody>\n",
       "    <tr>\n",
       "      <th>0</th>\n",
       "      <td>01M034</td>\n",
       "      <td>P.S. 034 FRANKLIN D. ROOSEVELT</td>\n",
       "      <td>6</td>\n",
       "      <td>0</td>\n",
       "      <td>24890.0</td>\n",
       "      <td>20.15</td>\n",
       "      <td>3.3</td>\n",
       "      <td>31.8</td>\n",
       "      <td>61.3</td>\n",
       "      <td>0.9</td>\n",
       "      <td>...</td>\n",
       "      <td>2.45</td>\n",
       "      <td>3.33</td>\n",
       "      <td>2.32</td>\n",
       "      <td>36.6</td>\n",
       "      <td>97.6</td>\n",
       "      <td>7.5</td>\n",
       "      <td>333.0</td>\n",
       "      <td>2.70</td>\n",
       "      <td>0.33</td>\n",
       "      <td>0.26</td>\n",
       "    </tr>\n",
       "    <tr>\n",
       "      <th>1</th>\n",
       "      <td>01M140</td>\n",
       "      <td>P.S. 140 NATHAN STRAUS</td>\n",
       "      <td>6</td>\n",
       "      <td>0</td>\n",
       "      <td>23536.0</td>\n",
       "      <td>24.56</td>\n",
       "      <td>5.7</td>\n",
       "      <td>12.4</td>\n",
       "      <td>78.7</td>\n",
       "      <td>0.5</td>\n",
       "      <td>...</td>\n",
       "      <td>4.11</td>\n",
       "      <td>3.12</td>\n",
       "      <td>3.26</td>\n",
       "      <td>31.0</td>\n",
       "      <td>87.3</td>\n",
       "      <td>9.7</td>\n",
       "      <td>371.0</td>\n",
       "      <td>2.71</td>\n",
       "      <td>0.31</td>\n",
       "      <td>0.24</td>\n",
       "    </tr>\n",
       "    <tr>\n",
       "      <th>2</th>\n",
       "      <td>01M184</td>\n",
       "      <td>P.S. 184M SHUANG WEN</td>\n",
       "      <td>67</td>\n",
       "      <td>23</td>\n",
       "      <td>16206.0</td>\n",
       "      <td>29.69</td>\n",
       "      <td>69.4</td>\n",
       "      <td>3.7</td>\n",
       "      <td>13.5</td>\n",
       "      <td>6.1</td>\n",
       "      <td>...</td>\n",
       "      <td>2.75</td>\n",
       "      <td>3.38</td>\n",
       "      <td>2.91</td>\n",
       "      <td>16.5</td>\n",
       "      <td>67.5</td>\n",
       "      <td>15.1</td>\n",
       "      <td>684.0</td>\n",
       "      <td>4.28</td>\n",
       "      <td>0.68</td>\n",
       "      <td>0.74</td>\n",
       "    </tr>\n",
       "    <tr>\n",
       "      <th>3</th>\n",
       "      <td>01M188</td>\n",
       "      <td>P.S. 188 THE ISLAND SCHOOL</td>\n",
       "      <td>0</td>\n",
       "      <td>0</td>\n",
       "      <td>21960.0</td>\n",
       "      <td>24.09</td>\n",
       "      <td>1.8</td>\n",
       "      <td>29.3</td>\n",
       "      <td>66.1</td>\n",
       "      <td>0.0</td>\n",
       "      <td>...</td>\n",
       "      <td>4.99</td>\n",
       "      <td>4.99</td>\n",
       "      <td>4.99</td>\n",
       "      <td>29.1</td>\n",
       "      <td>91.5</td>\n",
       "      <td>15.9</td>\n",
       "      <td>433.0</td>\n",
       "      <td>4.54</td>\n",
       "      <td>0.28</td>\n",
       "      <td>0.24</td>\n",
       "    </tr>\n",
       "    <tr>\n",
       "      <th>4</th>\n",
       "      <td>01M301</td>\n",
       "      <td>TECHNOLOGY, ARTS, AND SCIENCES STUDIO</td>\n",
       "      <td>11</td>\n",
       "      <td>0</td>\n",
       "      <td>25444.0</td>\n",
       "      <td>15.80</td>\n",
       "      <td>3.8</td>\n",
       "      <td>32.1</td>\n",
       "      <td>54.7</td>\n",
       "      <td>3.8</td>\n",
       "      <td>...</td>\n",
       "      <td>NaN</td>\n",
       "      <td>NaN</td>\n",
       "      <td>NaN</td>\n",
       "      <td>42.5</td>\n",
       "      <td>82.1</td>\n",
       "      <td>2.8</td>\n",
       "      <td>106.0</td>\n",
       "      <td>NaN</td>\n",
       "      <td>0.33</td>\n",
       "      <td>0.20</td>\n",
       "    </tr>\n",
       "    <tr>\n",
       "      <th>...</th>\n",
       "      <td>...</td>\n",
       "      <td>...</td>\n",
       "      <td>...</td>\n",
       "      <td>...</td>\n",
       "      <td>...</td>\n",
       "      <td>...</td>\n",
       "      <td>...</td>\n",
       "      <td>...</td>\n",
       "      <td>...</td>\n",
       "      <td>...</td>\n",
       "      <td>...</td>\n",
       "      <td>...</td>\n",
       "      <td>...</td>\n",
       "      <td>...</td>\n",
       "      <td>...</td>\n",
       "      <td>...</td>\n",
       "      <td>...</td>\n",
       "      <td>...</td>\n",
       "      <td>...</td>\n",
       "      <td>...</td>\n",
       "      <td>...</td>\n",
       "    </tr>\n",
       "    <tr>\n",
       "      <th>589</th>\n",
       "      <td>84X538</td>\n",
       "      <td>ICAHN CHARTER SCHOOL 5</td>\n",
       "      <td>20</td>\n",
       "      <td>1</td>\n",
       "      <td>NaN</td>\n",
       "      <td>NaN</td>\n",
       "      <td>4.1</td>\n",
       "      <td>58.0</td>\n",
       "      <td>31.0</td>\n",
       "      <td>1.3</td>\n",
       "      <td>...</td>\n",
       "      <td>3.38</td>\n",
       "      <td>3.38</td>\n",
       "      <td>3.51</td>\n",
       "      <td>6.9</td>\n",
       "      <td>65.2</td>\n",
       "      <td>0.9</td>\n",
       "      <td>319.0</td>\n",
       "      <td>3.31</td>\n",
       "      <td>0.33</td>\n",
       "      <td>0.33</td>\n",
       "    </tr>\n",
       "    <tr>\n",
       "      <th>590</th>\n",
       "      <td>84X703</td>\n",
       "      <td>BRONX PREPARATORY CHARTER SCHOOL</td>\n",
       "      <td>22</td>\n",
       "      <td>1</td>\n",
       "      <td>NaN</td>\n",
       "      <td>NaN</td>\n",
       "      <td>0.3</td>\n",
       "      <td>47.7</td>\n",
       "      <td>50.5</td>\n",
       "      <td>0.8</td>\n",
       "      <td>...</td>\n",
       "      <td>3.56</td>\n",
       "      <td>3.75</td>\n",
       "      <td>3.66</td>\n",
       "      <td>12.2</td>\n",
       "      <td>82.9</td>\n",
       "      <td>7.8</td>\n",
       "      <td>715.0</td>\n",
       "      <td>4.33</td>\n",
       "      <td>0.55</td>\n",
       "      <td>0.56</td>\n",
       "    </tr>\n",
       "    <tr>\n",
       "      <th>591</th>\n",
       "      <td>84X704</td>\n",
       "      <td>KIPP ACADEMY CHARTER SCHOOL</td>\n",
       "      <td>23</td>\n",
       "      <td>1</td>\n",
       "      <td>NaN</td>\n",
       "      <td>NaN</td>\n",
       "      <td>0.2</td>\n",
       "      <td>41.3</td>\n",
       "      <td>56.5</td>\n",
       "      <td>1.4</td>\n",
       "      <td>...</td>\n",
       "      <td>3.01</td>\n",
       "      <td>2.15</td>\n",
       "      <td>3.06</td>\n",
       "      <td>17.5</td>\n",
       "      <td>87.4</td>\n",
       "      <td>10.8</td>\n",
       "      <td>1074.0</td>\n",
       "      <td>2.98</td>\n",
       "      <td>0.60</td>\n",
       "      <td>0.61</td>\n",
       "    </tr>\n",
       "    <tr>\n",
       "      <th>592</th>\n",
       "      <td>84X706</td>\n",
       "      <td>HARRIET TUBMAN CHARTER SCHOOL</td>\n",
       "      <td>24</td>\n",
       "      <td>1</td>\n",
       "      <td>NaN</td>\n",
       "      <td>NaN</td>\n",
       "      <td>0.4</td>\n",
       "      <td>62.9</td>\n",
       "      <td>34.6</td>\n",
       "      <td>1.3</td>\n",
       "      <td>...</td>\n",
       "      <td>NaN</td>\n",
       "      <td>NaN</td>\n",
       "      <td>NaN</td>\n",
       "      <td>8.8</td>\n",
       "      <td>79.1</td>\n",
       "      <td>11.2</td>\n",
       "      <td>680.0</td>\n",
       "      <td>2.87</td>\n",
       "      <td>0.69</td>\n",
       "      <td>0.73</td>\n",
       "    </tr>\n",
       "    <tr>\n",
       "      <th>593</th>\n",
       "      <td>84X717</td>\n",
       "      <td>ICAHN CHARTER SCHOOL</td>\n",
       "      <td>24</td>\n",
       "      <td>1</td>\n",
       "      <td>NaN</td>\n",
       "      <td>NaN</td>\n",
       "      <td>1.2</td>\n",
       "      <td>49.8</td>\n",
       "      <td>48.3</td>\n",
       "      <td>0.6</td>\n",
       "      <td>...</td>\n",
       "      <td>4.21</td>\n",
       "      <td>4.60</td>\n",
       "      <td>4.34</td>\n",
       "      <td>7.3</td>\n",
       "      <td>84.2</td>\n",
       "      <td>7.3</td>\n",
       "      <td>329.0</td>\n",
       "      <td>3.31</td>\n",
       "      <td>0.66</td>\n",
       "      <td>0.71</td>\n",
       "    </tr>\n",
       "  </tbody>\n",
       "</table>\n",
       "<p>594 rows × 24 columns</p>\n",
       "</div>"
      ],
      "text/plain": [
       "        dbn                            school_name  applications  acceptances  \\\n",
       "0    01M034         P.S. 034 FRANKLIN D. ROOSEVELT             6            0   \n",
       "1    01M140                 P.S. 140 NATHAN STRAUS             6            0   \n",
       "2    01M184                   P.S. 184M SHUANG WEN            67           23   \n",
       "3    01M188             P.S. 188 THE ISLAND SCHOOL             0            0   \n",
       "4    01M301  TECHNOLOGY, ARTS, AND SCIENCES STUDIO            11            0   \n",
       "..      ...                                    ...           ...          ...   \n",
       "589  84X538                 ICAHN CHARTER SCHOOL 5            20            1   \n",
       "590  84X703       BRONX PREPARATORY CHARTER SCHOOL            22            1   \n",
       "591  84X704            KIPP ACADEMY CHARTER SCHOOL            23            1   \n",
       "592  84X706          HARRIET TUBMAN CHARTER SCHOOL            24            1   \n",
       "593  84X717                   ICAHN CHARTER SCHOOL            24            1   \n",
       "\n",
       "     per_pupil_spending  avg_class_size  asian_percent  black_percent  \\\n",
       "0               24890.0           20.15            3.3           31.8   \n",
       "1               23536.0           24.56            5.7           12.4   \n",
       "2               16206.0           29.69           69.4            3.7   \n",
       "3               21960.0           24.09            1.8           29.3   \n",
       "4               25444.0           15.80            3.8           32.1   \n",
       "..                  ...             ...            ...            ...   \n",
       "589                 NaN             NaN            4.1           58.0   \n",
       "590                 NaN             NaN            0.3           47.7   \n",
       "591                 NaN             NaN            0.2           41.3   \n",
       "592                 NaN             NaN            0.4           62.9   \n",
       "593                 NaN             NaN            1.2           49.8   \n",
       "\n",
       "     hispanic_percent  multiple_percent  ...  effective_school_leadership  \\\n",
       "0                61.3               0.9  ...                         2.45   \n",
       "1                78.7               0.5  ...                         4.11   \n",
       "2                13.5               6.1  ...                         2.75   \n",
       "3                66.1               0.0  ...                         4.99   \n",
       "4                54.7               3.8  ...                          NaN   \n",
       "..                ...               ...  ...                          ...   \n",
       "589              31.0               1.3  ...                         3.38   \n",
       "590              50.5               0.8  ...                         3.56   \n",
       "591              56.5               1.4  ...                         3.01   \n",
       "592              34.6               1.3  ...                          NaN   \n",
       "593              48.3               0.6  ...                         4.21   \n",
       "\n",
       "     strong_family_community_ties  trust  disability_percent  poverty_percent  \\\n",
       "0                            3.33   2.32                36.6             97.6   \n",
       "1                            3.12   3.26                31.0             87.3   \n",
       "2                            3.38   2.91                16.5             67.5   \n",
       "3                            4.99   4.99                29.1             91.5   \n",
       "4                             NaN    NaN                42.5             82.1   \n",
       "..                            ...    ...                 ...              ...   \n",
       "589                          3.38   3.51                 6.9             65.2   \n",
       "590                          3.75   3.66                12.2             82.9   \n",
       "591                          2.15   3.06                17.5             87.4   \n",
       "592                           NaN    NaN                 8.8             79.1   \n",
       "593                          4.60   4.34                 7.3             84.2   \n",
       "\n",
       "     ESL_percent  school_size  student_achievement  reading_scores_exceed  \\\n",
       "0            7.5        333.0                 2.70                   0.33   \n",
       "1            9.7        371.0                 2.71                   0.31   \n",
       "2           15.1        684.0                 4.28                   0.68   \n",
       "3           15.9        433.0                 4.54                   0.28   \n",
       "4            2.8        106.0                  NaN                   0.33   \n",
       "..           ...          ...                  ...                    ...   \n",
       "589          0.9        319.0                 3.31                   0.33   \n",
       "590          7.8        715.0                 4.33                   0.55   \n",
       "591         10.8       1074.0                 2.98                   0.60   \n",
       "592         11.2        680.0                 2.87                   0.69   \n",
       "593          7.3        329.0                 3.31                   0.66   \n",
       "\n",
       "     math_scores_exceed  \n",
       "0                  0.26  \n",
       "1                  0.24  \n",
       "2                  0.74  \n",
       "3                  0.24  \n",
       "4                  0.20  \n",
       "..                  ...  \n",
       "589                0.33  \n",
       "590                0.56  \n",
       "591                0.61  \n",
       "592                0.73  \n",
       "593                0.71  \n",
       "\n",
       "[594 rows x 24 columns]"
      ]
     },
     "metadata": {},
     "output_type": "display_data"
    }
   ],
   "source": [
    "df = pd.read_csv(\"middleSchoolData.csv\")\n",
    "print(\"Dataset Shape:\", df.shape)\n",
    "display(df)"
   ]
  },
  {
   "cell_type": "markdown",
   "id": "19d4ddd9",
   "metadata": {},
   "source": [
    "The dataset was provided by the New York City Department of Education and it contains data from all 594 middle schools within New York City, including 485 public schools and 109 charter schools."
   ]
  },
  {
   "cell_type": "markdown",
   "id": "99c62768",
   "metadata": {},
   "source": [
    "# Foundational Analysis"
   ]
  },
  {
   "cell_type": "markdown",
   "id": "fbd3bbd2",
   "metadata": {},
   "source": [
    "## Correlation Between Number of Applications and HSPHS Admission"
   ]
  },
  {
   "cell_type": "code",
   "execution_count": 3,
   "id": "87142ca6",
   "metadata": {},
   "outputs": [
    {
     "data": {
      "image/png": "[encoded data removed]",
      "text/plain": [
       "<Figure size 432x288 with 1 Axes>"
      ]
     },
     "metadata": {
      "needs_background": "light"
     },
     "output_type": "display_data"
    },
    {
     "name": "stdout",
     "output_type": "stream",
     "text": [
      "Pearson's product-moment correlation coefficient: 0.80173\n"
     ]
    }
   ],
   "source": [
    "# Determine Pearson's product-moment correlation coefficient\n",
    "corr = df[\"applications\"].corr(df[\"acceptances\"])\n",
    "# Plot the Pearson's r for applications and admissions\n",
    "plt.plot(df[\"applications\"], df[\"acceptances\"], \"o\", markersize = 1)\n",
    "plt.title(\"Pearson's Correlation Between Applications and Admissions to HSPHS\")\n",
    "plt.xlabel(\"Applications\")\n",
    "plt.ylabel(\"Admissions\")\n",
    "plt.text(100, 200, f'Correlation: {corr:.4f}')\n",
    "plt.show()\n",
    "\n",
    "print(f\"Pearson's product-moment correlation coefficient: {corr:.5f}\")"
   ]
  },
  {
   "cell_type": "markdown",
   "id": "f21be089",
   "metadata": {},
   "source": [
    "Within the relationship between applications and HSPHS admission, the correlation constant was approximately **0.802** which suggested that there was an incredibly **strong positive correlation** between raw number of applications and subsequent admission to a HSPHS. However this doesn't paint the complete picture so I wanted to see the relationship between **raw number of applications** and **application rate.**"
   ]
  },
  {
   "cell_type": "markdown",
   "id": "f69d4834",
   "metadata": {},
   "source": [
    "## Raw Number of Applications vs Application Rate as Predictor for HSPHS Admission"
   ]
  },
  {
   "cell_type": "code",
   "execution_count": 4,
   "id": "1bb42209",
   "metadata": {},
   "outputs": [
    {
     "name": "stdout",
     "output_type": "stream",
     "text": [
      "Raw Applications Correlation: 0.8017, Application Rate Correlation: 0.6588\n"
     ]
    }
   ],
   "source": [
    "# Create a new column in the DataFrame to represent Application Rate\n",
    "df[\"application_rate\"] = df[\"applications\"] / df[\"school_size\"]\n",
    "# Determine Pearson's r correlation between application rate and acceptances\n",
    "app_rate_corr = df[\"application_rate\"].corr(df[\"acceptances\"])\n",
    "# Compare the correlations between number of applciations and application rate\n",
    "print(f\"Raw Applications Correlation: {corr:.4f},\",\n",
    "      f\"Application Rate Correlation: {app_rate_corr:.4f}\")"
   ]
  },
  {
   "cell_type": "markdown",
   "id": "377d219d",
   "metadata": {},
   "source": [
    "Application rate has a correlation constant of approximately 0.6588 while raw number of applications has a costant of approximately 0.8017. Therefore it would be reasonable to state that raw number of applications is still the better predictor of admissions than considering application rate."
   ]
  },
  {
   "cell_type": "markdown",
   "id": "8d36a2ff",
   "metadata": {},
   "source": [
    "## Comparing Perception of Students and Objective School Performance"
   ]
  },
  {
   "cell_type": "code",
   "execution_count": 5,
   "id": "643f75ee",
   "metadata": {},
   "outputs": [],
   "source": [
    "# Restrict dataframe to only predictors which measure objective school performance\n",
    "predictors = df[[\"rigorous_instruction\", \"collaborative_teachers\", \"supportive_environment\",\n",
    "                \"effective_school_leadership\", \"strong_family_community_ties\", \"trust\", \n",
    "                 \"student_achievement\", \"reading_scores_exceed\", \"math_scores_exceed\"]]\n",
    "# Pre-processing to remove NaN values within the DataFrame\n",
    "predictors = predictors.dropna()"
   ]
  },
  {
   "cell_type": "code",
   "execution_count": 6,
   "id": "ab7e378a",
   "metadata": {},
   "outputs": [
    {
     "data": {
      "text/plain": [
       "<AxesSubplot:>"
      ]
     },
     "execution_count": 6,
     "metadata": {},
     "output_type": "execute_result"
    },
    {
     "data": {
      "image/png": "[encoded data removed]",
      "text/plain": [
       "<Figure size 432x288 with 2 Axes>"
      ]
     },
     "metadata": {
      "needs_background": "light"
     },
     "output_type": "display_data"
    }
   ],
   "source": [
    "corr_matrix = predictors.corr()\n",
    "\n",
    "sns.heatmap(corr_matrix, cmap=\"coolwarm\", annot = True)"
   ]
  },
  {
   "cell_type": "markdown",
   "id": "b2d94bfc",
   "metadata": {},
   "source": [
    "## Determining if School Size Affects Overall Measures of Student Success"
   ]
  },
  {
   "cell_type": "code",
   "execution_count": 7,
   "id": "c4f75459",
   "metadata": {},
   "outputs": [],
   "source": [
    "# Replace NaNs within measures of student success with average\n",
    "df[\"student_achievement\"].fillna(df[\"student_achievement\"].mean(), inplace = True)\n",
    "df[\"reading_scores_exceed\"].fillna(df[\"reading_scores_exceed\"].mean(), inplace = True)\n",
    "df[\"math_scores_exceed\"].fillna(df[\"math_scores_exceed\"].mean(), inplace = True)"
   ]
  },
  {
   "cell_type": "code",
   "execution_count": 8,
   "id": "6b83c6eb",
   "metadata": {},
   "outputs": [
    {
     "name": "stdout",
     "output_type": "stream",
     "text": [
      "t:  -8.466237279838426\n",
      "p-value:  2.0130221323123662e-16\n"
     ]
    }
   ],
   "source": [
    "# Normalize student measures of success by z-scoring the metrics\n",
    "normalized = pd.DataFrame()\n",
    "normalized[\"achieve_norm\"] = zscore(df[\"student_achievement\"])\n",
    "normalized[\"read_norm\"] = zscore(df[\"reading_scores_exceed\"])\n",
    "normalized[\"math_norm\"] = zscore(df[\"math_scores_exceed\"])\n",
    "\n",
    "# Combine average of z-scores measures of success into a single feature\n",
    "df[\"overall_achievement\"] = (normalized[\"achieve_norm\"] + normalized[\"read_norm\"] \n",
    "                             + normalized[\"math_norm\"]) / 3\n",
    "\n",
    "# Define what constitutes a small school vs a large school (median school size)\n",
    "small_school = df[df[\"school_size\"] < df[\"school_size\"].median()][\"overall_achievement\"]\n",
    "large_school = df[df[\"school_size\"] >= df[\"school_size\"].median()][\"overall_achievement\"]\n",
    "\n",
    "# Conduct a two-sample t-test to determine whether overall \n",
    "# achievement differs from small and large schools\n",
    "t, p = ttest_ind(small_school, large_school)\n",
    "# Display the t and p-value from the two-sample t-test\n",
    "print(\"t: \", t)\n",
    "print(\"p-value: \", p)"
   ]
  },
  {
   "cell_type": "markdown",
   "id": "48f74cbb",
   "metadata": {},
   "source": [
    "After conducting the two-sample t-test between small and large schools, we are given two test statistics to analyze. We start with the t-value obtained from the test, -8.4662. This t-value suggests that this sample mean is slightly below the hypothesized value of the population mean. However the extremely low p-value makes us confident in stating that we can reject the null hypothesis ($H_0$), in this case being that there is no difference in average achievement between small and large schools. In this case we can move to accept the alternative hypothesis ($H_a$) that there is a difference in the average achievement of students between small and large schools. The level of significance we want in this instance would be below an alpha $\\alpha$ of 0.05, which basically is the probability of us making a Type I error. In this case we have an incredibly low $\\alpha$ so we can be quite confident that there is a difference between sizes of schools."
   ]
  },
  {
   "cell_type": "markdown",
   "id": "7ef3a45b",
   "metadata": {},
   "source": [
    "# Individual Schools and Student Success Features Analysis"
   ]
  },
  {
   "cell_type": "markdown",
   "id": "b8dc2386",
   "metadata": {},
   "source": [
    "## School with the highest HSPHS *per student* acceptance rate"
   ]
  },
  {
   "cell_type": "code",
   "execution_count": 9,
   "id": "d3b1ecba",
   "metadata": {},
   "outputs": [
    {
     "name": "stdout",
     "output_type": "stream",
     "text": [
      "The school with the highest HSPHS acceptance rate is: \n",
      "THE CHRISTA MCAULIFFE SCHOOL\\I.S. 187 with an acceptance rate of {acceptance_rate:.2f}%.\n"
     ]
    }
   ],
   "source": [
    "# Calculate the overall acceptance rate then normalize by school size\n",
    "df[\"acceptance_rate\"] = (df[\"acceptances\"] / df[\"school_size\"]) * 100\n",
    "\n",
    "# Sort schools by normalized acceptance rate in descending order\n",
    "sort_schools = df.sort_values(by = \"acceptance_rate\", ascending = False)\n",
    "school_name, acceptance_rate = sort_schools[[\"school_name\", \"acceptance_rate\"]].iloc[0]\n",
    "\n",
    "# Display the school with the highest acceptance rate\n",
    "print(f\"The school with the highest HSPHS acceptance rate is: \\n{school_name}\",\n",
    "      \"with an acceptance rate of {acceptance_rate:.2f}%.\")"
   ]
  },
  {
   "cell_type": "markdown",
   "id": "d3af0c03",
   "metadata": {},
   "source": [
    "## Proportion of Schools Which Account for 90% of Students Accepted to HSPHS"
   ]
  },
  {
   "cell_type": "code",
   "execution_count": 10,
   "id": "c0e2b4e1",
   "metadata": {},
   "outputs": [
    {
     "name": "stdout",
     "output_type": "stream",
     "text": [
      "Percentage of schools accounting for 90% of HSPHS acceptance is 20.71%\n"
     ]
    }
   ],
   "source": [
    "# Calculate total number of students accepted in the DataFrame\n",
    "total_acceptance = sum(df[\"acceptances\"])\n",
    "\n",
    "# Create a new DataFrame which is softed by number of HSPHS acceptances\n",
    "acceptance_df = df.sort_values(by = [\"acceptances\"], ascending = False)\n",
    "\n",
    "# Create counter variable for total current sum and number of schools\n",
    "cumulative_sum = 0\n",
    "num_schools = 0\n",
    "\n",
    "# Loop through the sorted DataFrame and add acceptances to cumulative sum\n",
    "for index, row in acceptance_df.iterrows():\n",
    "    cumulative_sum += row[\"acceptances\"]\n",
    "    num_schools += 1\n",
    "    # When cumulative sum equals or is greater than 90% of all acceptances, break\n",
    "    if cumulative_sum >= (total_acceptance * 0.9):\n",
    "        break\n",
    "\n",
    "# The proportion of schools is the schools which account for 90% of acceptances\n",
    "# divided by the total number of schools within the DataFrame\n",
    "percentage_of_schools = (num_schools / len(df)) * 100\n",
    "print(f\"Percentage of schools accounting for 90% of HSPHS acceptance is {percentage_of_schools:.2f}%\")"
   ]
  },
  {
   "cell_type": "markdown",
   "id": "fa3855e0",
   "metadata": {},
   "source": [
    "# Clustering to Determine Characteristics that Contribute Most to Objective Achievement and HSPHS Acceptance"
   ]
  },
  {
   "cell_type": "markdown",
   "id": "ba66ee74",
   "metadata": {},
   "source": [
    "## Pre-processing the Dataset that will be Used for Clustering"
   ]
  },
  {
   "cell_type": "code",
   "execution_count": 11,
   "id": "83602399",
   "metadata": {},
   "outputs": [],
   "source": [
    "# Remove features which don't contribute to target variables\n",
    "cluster_df = df.drop([\"dbn\",\"school_name\"], axis = 1)\n",
    "\n",
    "# Drop rows within DataFrame with missing values\n",
    "cluster_df = cluster_df.dropna()"
   ]
  },
  {
   "cell_type": "code",
   "execution_count": 12,
   "id": "75f1f7f2",
   "metadata": {},
   "outputs": [],
   "source": [
    "# Feature selection to include only features above specific correlation\n",
    "correlations = cluster_df.corr()[\"acceptance_rate\"]\n",
    "relevant_features = correlations[correlations.abs() > 0.3].index.tolist()"
   ]
  },
  {
   "cell_type": "markdown",
   "id": "4b0a8d8e",
   "metadata": {},
   "source": [
    "## Incorporating the Clustering Algorithm"
   ]
  },
  {
   "cell_type": "code",
   "execution_count": 13,
   "id": "dd536e6a",
   "metadata": {},
   "outputs": [],
   "source": [
    "# Determine optimal number of clusters \n",
    "wcss = []\n",
    "# Utilize silhouette score to evaluate cluster quality\n",
    "silhouette = []\n",
    "\n",
    "# Loop through various values of clusters\n",
    "for i in range(2,11):\n",
    "    kmeans = KMeans(n_clusters = i)\n",
    "    kmeans.fit(cluster_df)\n",
    "    wcss.append(kmeans.inertia_)\n",
    "    silhouette.append(silhouette_score(cluster_df, kmeans.labels_))"
   ]
  },
  {
   "cell_type": "code",
   "execution_count": 14,
   "id": "6823afd4",
   "metadata": {},
   "outputs": [
    {
     "data": {
      "image/png": "[encoded data removed]",
      "text/plain": [
       "<Figure size 432x288 with 1 Axes>"
      ]
     },
     "metadata": {
      "needs_background": "light"
     },
     "output_type": "display_data"
    }
   ],
   "source": [
    "# Plot the within-cluster sum of squares along with elbow method\n",
    "plt.plot(range(2, 11), wcss)\n",
    "plt.title(\"Elbow Method\")\n",
    "plt.xlabel(\"Number of Clusters\")\n",
    "plt.ylabel(\"WCSS\")\n",
    "plt.show();"
   ]
  },
  {
   "cell_type": "code",
   "execution_count": 15,
   "id": "4e2c693d",
   "metadata": {},
   "outputs": [
    {
     "data": {
      "image/png": "[encoded data removed]",
      "text/plain": [
       "<Figure size 432x288 with 1 Axes>"
      ]
     },
     "metadata": {
      "needs_background": "light"
     },
     "output_type": "display_data"
    }
   ],
   "source": [
    "# Plot the silhouette score for the number of clusters\n",
    "plt.plot(range(2, 11), silhouette)\n",
    "plt.title(\"Silhouette Scores of Clusters\")\n",
    "plt.xlabel(\"Number of Clusters\")\n",
    "plt.ylabel(\"Silhouette Score\")\n",
    "plt.show();"
   ]
  },
  {
   "cell_type": "markdown",
   "id": "e55add3e",
   "metadata": {},
   "source": [
    "The Elbow Method and the Silhouette Score suggests that the optimal number of clusters for the dataset is 4."
   ]
  },
  {
   "cell_type": "code",
   "execution_count": 16,
   "id": "f4b92d25",
   "metadata": {},
   "outputs": [
    {
     "data": {
      "text/plain": [
       "KMeans(n_clusters=4, random_state=17)"
      ]
     },
     "execution_count": 16,
     "metadata": {},
     "output_type": "execute_result"
    }
   ],
   "source": [
    "# Create a new DataFrame with only relevant features\n",
    "relevant_df = cluster_df.loc[:, relevant_features]\n",
    "\n",
    "# Fit a clustering algorithm onto the dataset of relevant features\n",
    "kmeans = KMeans(n_clusters = 4, random_state = 17)\n",
    "kmeans.fit(relevant_df)"
   ]
  },
  {
   "cell_type": "code",
   "execution_count": 17,
   "id": "b5534bb7",
   "metadata": {},
   "outputs": [
    {
     "name": "stdout",
     "output_type": "stream",
     "text": [
      "Total Variance Explained: 0.9997\n"
     ]
    }
   ],
   "source": [
    "# Reduce dimensionality and determine top two principal components\n",
    "pca = PCA()\n",
    "principal_components = pca.fit_transform(cluster_df)\n",
    "\n",
    "# Display the total variance explained by most significant two principal components\n",
    "print(f\"Total Variance Explained: {sum(pca.explained_variance_ratio_[:2]):.4f}\")"
   ]
  },
  {
   "cell_type": "code",
   "execution_count": 18,
   "id": "502a13eb",
   "metadata": {},
   "outputs": [
    {
     "name": "stdout",
     "output_type": "stream",
     "text": [
      "         applications  acceptances  per_pupil_spending  avg_class_size  \\\n",
      "Cluster                                                                  \n",
      "0           23.099010     2.470297        20953.633663       21.041139   \n",
      "1          282.666667    89.380952        16560.095238       26.287619   \n",
      "2          117.984848    25.636364        18108.424242       25.655152   \n",
      "3           18.234568     0.814815        22007.537037       21.087716   \n",
      "\n",
      "         asian_percent  black_percent  hispanic_percent  multiple_percent  \\\n",
      "Cluster                                                                     \n",
      "0            10.687624      45.532178         25.551485          3.005941   \n",
      "1            37.780952       6.233333         25.204762          2.466667   \n",
      "2            28.704545      12.365152         28.689394          2.416667   \n",
      "3             3.079630      20.675926         72.278395          1.006790   \n",
      "\n",
      "         white_percent  rigorous_instruction  ...  disability_percent  \\\n",
      "Cluster                                       ...                       \n",
      "0            15.218317              3.654406  ...           22.248020   \n",
      "1            28.338095              4.177619  ...           14.547619   \n",
      "2            27.816667              3.845000  ...           16.942424   \n",
      "3             2.956790              3.519136  ...           24.502469   \n",
      "\n",
      "         poverty_percent  ESL_percent  school_size  student_achievement  \\\n",
      "Cluster                                                                   \n",
      "0              73.446535     8.054455   518.589109             3.292548   \n",
      "1              58.776190     7.719048  1378.857143             3.767619   \n",
      "2              62.801515    10.089394  1067.015152             3.635758   \n",
      "3              90.158025    20.185802   481.802469             3.290432   \n",
      "\n",
      "         reading_scores_exceed  math_scores_exceed  application_rate  \\\n",
      "Cluster                                                                \n",
      "0                     0.459554            0.393069          0.050565   \n",
      "1                     0.716190            0.698571          0.211849   \n",
      "2                     0.611061            0.585455          0.124449   \n",
      "3                     0.337222            0.275432          0.041071   \n",
      "\n",
      "         overall_achievement  acceptance_rate  \n",
      "Cluster                                        \n",
      "0                  -0.101273         0.468755  \n",
      "1                   1.056427         7.283203  \n",
      "2                   0.631630         3.159760  \n",
      "3                  -0.499402         0.170654  \n",
      "\n",
      "[4 rows x 25 columns]\n"
     ]
    }
   ],
   "source": [
    "# Interpret the results\n",
    "cluster_df[\"Cluster\"] = kmeans.labels_\n",
    "cluster_means = cluster_df.groupby(\"Cluster\").mean()\n",
    "print(cluster_means)"
   ]
  },
  {
   "cell_type": "markdown",
   "id": "ae386db3",
   "metadata": {},
   "source": [
    "# Classification Models to Determine Features Contributing Most to Overall Student Achievement"
   ]
  },
  {
   "cell_type": "markdown",
   "id": "afc2cfb1",
   "metadata": {},
   "source": [
    "## Initial Preprocessing of the Dataset"
   ]
  },
  {
   "cell_type": "code",
   "execution_count": 43,
   "id": "748292f4",
   "metadata": {},
   "outputs": [],
   "source": [
    "# Dataset pre-processing to remove school ID and school name\n",
    "updated_df = df.drop([\"dbn\", \"school_name\"], axis = 1)\n",
    "\n",
    "# Further pre-processing to remove any NaN or empty values\n",
    "updated_df = updated_df.dropna()\n",
    "\n",
    "# Lambda function to make target variable a binary classifier\n",
    "y = updated_df[\"overall_achievement\"].apply(lambda x:1 if x>updated_df[\"overall_achievement\"].median() else 0)\n",
    "X = updated_df.drop(\"overall_achievement\", axis = 1)\n",
    "\n",
    "# Split the dataset into a training and a test set\n",
    "X_train, X_test, y_train, y_test = train_test_split(X,y, test_size = 0.2)"
   ]
  },
  {
   "cell_type": "markdown",
   "id": "015688a0",
   "metadata": {},
   "source": [
    "## Logistic Regression and Binary Classification Prediction of HSPHS Acceptance"
   ]
  },
  {
   "cell_type": "code",
   "execution_count": 20,
   "id": "692b3ae7",
   "metadata": {},
   "outputs": [
    {
     "name": "stderr",
     "output_type": "stream",
     "text": [
      "/opt/anaconda3/lib/python3.8/site-packages/sklearn/linear_model/_logistic.py:763: ConvergenceWarning: lbfgs failed to converge (status=1):\n",
      "STOP: TOTAL NO. of ITERATIONS REACHED LIMIT.\n",
      "\n",
      "Increase the number of iterations (max_iter) or scale the data as shown in:\n",
      "    https://scikit-learn.org/stable/modules/preprocessing.html\n",
      "Please also refer to the documentation for alternative solver options:\n",
      "    https://scikit-learn.org/stable/modules/linear_model.html#logistic-regression\n",
      "  n_iter_i = _check_optimize_result(\n"
     ]
    }
   ],
   "source": [
    "# Create an instance of a LogisticRegresison object\n",
    "lr = LogisticRegression()\n",
    "\n",
    "# Fit the model to the training data\n",
    "lr.fit(X_train, y_train)\n",
    "\n",
    "# Predict outcomes for the testing data\n",
    "y_pred = lr.predict(X_test)"
   ]
  },
  {
   "cell_type": "markdown",
   "id": "2ce8158e",
   "metadata": {},
   "source": [
    "### Calculating Accuracy Metrics for Trained Model"
   ]
  },
  {
   "cell_type": "code",
   "execution_count": 21,
   "id": "07a8debb",
   "metadata": {},
   "outputs": [
    {
     "name": "stdout",
     "output_type": "stream",
     "text": [
      "Accuracy of the model is 85.71%\n"
     ]
    }
   ],
   "source": [
    "# Calculating overall accuracy of the model\n",
    "accuracy = accuracy_score(y_test, y_pred) * 100\n",
    "print(f\"Accuracy of the model is {accuracy:.2f}%\")"
   ]
  },
  {
   "cell_type": "markdown",
   "id": "05cbdc9b",
   "metadata": {},
   "source": [
    "In terms of judging the trained logistic regression model, accuracy measures the proportion of correctly classified samples by the model. Its calculated by dividing the number of correctly classified samples by the total number of samples. In this case the accuracy of the model is 83.52% which whos promise in terms of the logistic regression model correctly identifying and utilizing relevant features to make classification predictions.\n",
    "\n",
    "However accuracy doesn't paint the entire picture as its a relatively simple measure of model performance. We are simply dividing correctly identified samples by total samples. Another metric we can utilize is the precision score of the model."
   ]
  },
  {
   "cell_type": "code",
   "execution_count": 22,
   "id": "df44b28e",
   "metadata": {},
   "outputs": [
    {
     "name": "stdout",
     "output_type": "stream",
     "text": [
      "Precision of the model is 0.95\n"
     ]
    }
   ],
   "source": [
    "# Calculating precision of the model\n",
    "precision = precision_score(y_test, y_pred)\n",
    "print(f\"Precision of the model is {precision:.2f}\")"
   ]
  },
  {
   "cell_type": "markdown",
   "id": "4db39b4f",
   "metadata": {},
   "source": [
    "In terms of judging the trained logistic regression model, precision measures the proportion of true positives among all positive samples. This sounds complicated but its essentially just measuring the number of corectly predicted positive samples among all positive predictions, including positive predictions that were actually supposed to classified as negative. It is calculated as (True Positive) / (True Positives + False Positives)\n",
    "\n",
    "In this instance the precision of the model is 0.77 which is a relatively high precision score. However we must analyze it in conjuction with the accuracy score, which shows that the model is biasing towards making positive predictions which could be a drawback of the logistic regression model. However we can go further in analysis of the true positives in relation to all predictions using the recall score of the model."
   ]
  },
  {
   "cell_type": "code",
   "execution_count": 23,
   "id": "abb5a044",
   "metadata": {},
   "outputs": [
    {
     "name": "stdout",
     "output_type": "stream",
     "text": [
      "Recall of the model is 0.79\n"
     ]
    }
   ],
   "source": [
    "# Calculating recall of the model\n",
    "recall = recall_score(y_test, y_pred)\n",
    "print(f\"Recall of the model is {recall:.2f}\")"
   ]
  },
  {
   "cell_type": "markdown",
   "id": "e6ecb259",
   "metadata": {},
   "source": [
    "In terms of juding the trained logistic regression model, recall measures the proportion of true positives among all positive samples. In comparison to the precision score, recall essentially measures the true positives along with the false negatives in order to obtain a more comprehensive depiction of model performance."
   ]
  },
  {
   "cell_type": "code",
   "execution_count": 24,
   "id": "22a130fa",
   "metadata": {},
   "outputs": [
    {
     "name": "stdout",
     "output_type": "stream",
     "text": [
      "F1 Score for the model is 0.87\n"
     ]
    }
   ],
   "source": [
    "# Calculating F1 Score of the model\n",
    "f1 = f1_score(y_test, y_pred)\n",
    "print(f\"F1 Score for the model is {f1:.2f}\")"
   ]
  },
  {
   "cell_type": "markdown",
   "id": "6fdac13b",
   "metadata": {},
   "source": [
    "### Utilizing ROC AUC to Generalize Logistic Regression Performance"
   ]
  },
  {
   "cell_type": "code",
   "execution_count": 25,
   "id": "85de28e3",
   "metadata": {},
   "outputs": [],
   "source": [
    "# Predict probability of outcome variable on the test data\n",
    "y_pred_prob = lr.predict_proba(X_test)\n",
    "fpr, tpr, threshold = roc_curve(y_test, y_pred_prob[:, 1])\n",
    "roc_auc = auc(fpr, tpr)"
   ]
  },
  {
   "cell_type": "code",
   "execution_count": 34,
   "id": "3e2781b3",
   "metadata": {},
   "outputs": [
    {
     "data": {
      "image/png": "[encoded data removed]",
      "text/plain": [
       "<Figure size 432x288 with 1 Axes>"
      ]
     },
     "metadata": {
      "needs_background": "light"
     },
     "output_type": "display_data"
    }
   ],
   "source": [
    "# Plot the ROC Curve\n",
    "plt.plot(fpr, tpr, color = \"darkred\", lw = 2, label = \"ROC Curve (Area = %0.2f)\" % roc_auc)\n",
    "plt.plot([0,1], [0,1], color = \"orange\", lw = 2, linestyle = \"--\")\n",
    "plt.xlim([0.0, 1.0])\n",
    "plt.ylim([0.0, 1.05])\n",
    "plt.xlabel(\"False Positive Rate\")\n",
    "plt.ylabel(\"True Positive Rate\")\n",
    "plt.title(\"Receiver Operating Characteristic for Logistic Regression Model\")\n",
    "plt.legend(loc = \"lower right\")\n",
    "plt.show();"
   ]
  },
  {
   "cell_type": "markdown",
   "id": "a59e05d8",
   "metadata": {},
   "source": [
    "The ROC, also known as the Receiver Operating Characteristic, curve is the graphical interpretation of a binary classifier's performance, which in this case represents the performance of our logistic regression model. It plots the false positive rate on the x-axis and the true positive rate on the y-axis at various differing probability thresholds.\n",
    "\n",
    "True positive rate (TPR), also referred to as sensitivty or recall, measures proportion of true positive cases correctly identified by the classifier. False positive rate (FPR) however measures proportion of false positives incorrectly identified as positive by the classifier.\n",
    "\n",
    "In the plot, the orange line represents the performance of a completely random classifier where the TPR and the FPR would be equal. The best models would have a ROC which is close to the top left of the graph, indicating that the model's sensitivity and specificity is high, better said as TPR being high and FPR low.\n",
    "\n",
    "In this instance we are interested in the area under the curve (AUC) of the ROC, which is a measure of the overall performance of the logistic regression classifier. An AUC of 1.0 indicates a perfect classifier while an AUC of 0.5 indicates a random classifier. However oftentimes a perfect classifier is actually unwanted as it most likely means that the classifier overfit to the training dataset. In our model though, the ROC AUC is 0.9 which indicates that the model has incredibly strong performance overall on the dataset which it was trained on.\n",
    "\n",
    "Overall, our logistic regression classifier seems to be quite robust in terms of classifying based on the features which students would or wouldn't be accepted to HSPHS. Now that we are confident in our model's performance however we want to determine which features the model is using in order to make these classifications."
   ]
  },
  {
   "cell_type": "markdown",
   "id": "b53e3a94",
   "metadata": {},
   "source": [
    "### Identifying Model Coefficient Weights Within Logistic Regression Model"
   ]
  },
  {
   "cell_type": "code",
   "execution_count": 68,
   "id": "9959fba4",
   "metadata": {},
   "outputs": [
    {
     "name": "stderr",
     "output_type": "stream",
     "text": [
      "/opt/anaconda3/lib/python3.8/site-packages/seaborn/_decorators.py:36: FutureWarning: Pass the following variables as keyword args: x, y. From version 0.12, the only valid positional argument will be `data`, and passing other arguments without an explicit keyword will result in an error or misinterpretation.\n",
      "  warnings.warn(\n"
     ]
    },
    {
     "data": {
      "image/png": "[encoded data removed]",
      "text/plain": [
       "<Figure size 432x288 with 1 Axes>"
      ]
     },
     "metadata": {
      "needs_background": "light"
     },
     "output_type": "display_data"
    }
   ],
   "source": [
    "# Store coefficients and features of logistic regression model\n",
    "coefficients = np.squeeze(lr.coef_)\n",
    "feature_names = X.columns.values\n",
    "\n",
    "# Create a bar chart of the coefficients\n",
    "bar = sns.barplot(feature_names, coefficients)\n",
    "\n",
    "# Set the bar plot and display it\n",
    "bar.set(xlabel = \"Features\", ylabel = \"Weights\")\n",
    "bar.set_xticklabels(bar.get_xticklabels(), rotation = 90)\n",
    "plt.show();"
   ]
  },
  {
   "cell_type": "markdown",
   "id": "0027e82c",
   "metadata": {},
   "source": [
    "## Support Vector Machine to Determine Features of Overall Student Success"
   ]
  },
  {
   "cell_type": "markdown",
   "id": "8273445c",
   "metadata": {},
   "source": [
    "### Initial Classification of Dataset using Decision Tree Classifier"
   ]
  },
  {
   "cell_type": "code",
   "execution_count": 27,
   "id": "eb8950f9",
   "metadata": {},
   "outputs": [],
   "source": [
    "# Using Decision Tree Classfier to determine feature importance\n",
    "tree = DecisionTreeClassifier()\n",
    "tree.fit(X_train, y_train)\n",
    "\n",
    "# Define feature importances\n",
    "importance = tree.feature_importances_\n",
    "\n",
    "# Loop through to only select feature importances above threshold of 0.02\n",
    "features = []\n",
    "for i, k in enumerate(importance):\n",
    "    if k > 0.02:\n",
    "        features.append(X_train.columns[i])\n",
    "        \n",
    "# Only keep important features for X values\n",
    "X_train = X_train[features]\n",
    "X_test = X_test[features]\n",
    "\n",
    "# Scale data to improve performance\n",
    "scaler = StandardScaler()\n",
    "X_train = scaler.fit_transform(X_train)\n",
    "X_test = scaler.transform(X_test)"
   ]
  },
  {
   "cell_type": "code",
   "execution_count": 28,
   "id": "245cf430",
   "metadata": {},
   "outputs": [],
   "source": [
    "# Incorporate a radial basis function (RBF) kernel onto a SVM model\n",
    "svm = SVC(kernel = \"rbf\")\n",
    "svm.fit(X_train, y_train)\n",
    "y_pred = svm.predict(X_test)"
   ]
  },
  {
   "cell_type": "markdown",
   "id": "11b8534a",
   "metadata": {},
   "source": [
    "### Evaluating Model Performance"
   ]
  },
  {
   "cell_type": "code",
   "execution_count": 29,
   "id": "579e2423",
   "metadata": {},
   "outputs": [
    {
     "name": "stdout",
     "output_type": "stream",
     "text": [
      "The model has an accuracy score of 98.90%\n"
     ]
    }
   ],
   "source": [
    "# Evaluate model performance using its accuracy score\n",
    "accuracy = accuracy_score(y_test, y_pred) * 100\n",
    "print(f\"The model has an accuracy score of {accuracy:.2f}%\")"
   ]
  },
  {
   "cell_type": "markdown",
   "id": "aa7acf62",
   "metadata": {},
   "source": [
    "The support vector machine has a shockingly high accuracy so I'd want to analyze performance of the model with a confusion matrix also. This would allow me to analyze true positive and false positive rates which could help in understanding true model accuracy."
   ]
  },
  {
   "cell_type": "code",
   "execution_count": 30,
   "id": "2f17a44f",
   "metadata": {},
   "outputs": [
    {
     "name": "stdout",
     "output_type": "stream",
     "text": [
      "The Confusion Matrix for the model is [[38  0]\n",
      " [ 1 52]]\n"
     ]
    }
   ],
   "source": [
    "# Evaluate model performance using a confusion matrix\n",
    "confusion = confusion_matrix(y_test, y_pred)\n",
    "print(f\"The Confusion Matrix for the model is {confusion}\")"
   ]
  },
  {
   "cell_type": "markdown",
   "id": "3a3ee3fb",
   "metadata": {},
   "source": [
    "Overall the support vector machine model built on the dataset is incredibly accurate in terms of being a comprehensive model for determining overall student success. The accuracy score of 96.7% is quite surprising as it means that the true positive rate is quite high. However we still had to consider the confusion matrix to get the complete picture. The confusion matrix gives us a better idea of the overall accuracy, with the confusion matrix showing very high true positive and false negative rates. Overall this shows the support vector machine created on the dataset is relatively robust, especially considering performance was measured on the testing dataset."
   ]
  },
  {
   "cell_type": "markdown",
   "id": "5100576f",
   "metadata": {},
   "source": [
    "# Summary"
   ]
  },
  {
   "cell_type": "markdown",
   "id": "3820c831",
   "metadata": {},
   "source": [
    "## Initial Thoughts"
   ]
  },
  {
   "cell_type": "markdown",
   "id": "4aeb3f20",
   "metadata": {},
   "source": [
    "After analyzing the dataset, many of the features I originally thought would play a part in both student and school performance actually were not as correlated as I had believed they would be. An example of this would be the lack of correlation between student perception of school and that school's overall performance. Features such as availability of resources, which included factors such as smaller class sizes, also didn't have as much correlation with overall objective measures of success as I had originally thought it would.\n",
    "\n",
    "However on the other end of the spectrum, I was surprised to find that pure number of applications to HSPHS had a significantly higher correlation constant than the normalized application rate of schools."
   ]
  },
  {
   "cell_type": "markdown",
   "id": "7df3d8af",
   "metadata": {},
   "source": [
    "## Educational Recommendations for the NYCDOE"
   ]
  },
  {
   "cell_type": "markdown",
   "id": "721cdc5b",
   "metadata": {},
   "source": [
    "Regarding initial recommendations for the New York City Department of Education, I would first inquire about what metrics of student success we wanted to work on. Withint this analysis, I focused on two measures of student sucess, overall student achievement defined as scores on standardized tests and grades as well as acceptance into highly selective public high schools (HSPHS). \n",
    "\n",
    "In terms of overall student success, one of the most important factors to consider is per pupil spending. Therefore I would push for schools to push for high per pupil spending within the curriculum as this feature contributed more significantly to the model predicting overall student success than other factors of material availability. \n",
    "\n",
    "However in regards to acceptance into HSPHS, I would recommend schools to work on generating more interest into applying for these schools. This is because total number of applicants to these highly selective schools was the most important feature within the dataset in terms of determining whether a student was accepted. And the disparity between this feature and the rest of the features within the dataset was so dramatic that this individual factor contributed most of the feature weight within the trained model. Therefore this factor would be the one factor that should be disproportionately focused on in order to facilitate student acceptances to these schools."
   ]
  }
 ],
 "metadata": {
  "kernelspec": {
   "display_name": "Python 3",
   "language": "python",
   "name": "python3"
  },
  "language_info": {
   "codemirror_mode": {
    "name": "ipython",
    "version": 3
   },
   "file_extension": ".py",
   "mimetype": "text/x-python",
   "name": "python",
   "nbconvert_exporter": "python",
   "pygments_lexer": "ipython3",
   "version": "3.8.8"
  }
 },
 "nbformat": 4,
 "nbformat_minor": 5
}
